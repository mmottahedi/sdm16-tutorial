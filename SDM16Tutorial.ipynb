{
 "cells": [
  {
   "cell_type": "markdown",
   "metadata": {
    "collapsed": true
   },
   "source": [
    "# Mining Personal Traits in Social Media\n",
    "\n",
    "**SIAM SDM 2016 Tutorial**\n",
    "\n",
    "[Aron Culotta](http://www.cs.iit.edu/~culotta/)  (Illinois Inst. of Technology) and [Dongwon Lee](http://nike.psu.edu/dongwon/) (Penn State) "
   ]
  },
  {
   "cell_type": "markdown",
   "metadata": {},
   "source": [
    "Below we demonstrate the approach of Culotta et al. [\"Predicting Twitter User Demographics using Distance Supervision from Website Traffic Data\"](http://tapilab.github.io/user%20attribute%20inference/2016/02/01/predicting)\n",
    "\n",
    "This uses aggregate demographics (from Quantcast.com) to build a model that is then applied at the user level.\n",
    "\n",
    "See a companion notebook to the original paper [here](https://github.com/tapilab/jair-2016-demographics/blob/master/README.md).\n",
    "\n",
    "The data is available here:\n",
    "https://www.dropbox.com/sh/4bmfw2e3kktoz17/AACOJ_79eeEosIG8h4DQaSfba?dl=0\n",
    "\n",
    "Please email Aron for the password."
   ]
  },
  {
   "cell_type": "code",
   "execution_count": 1,
   "metadata": {
    "collapsed": false
   },
   "outputs": [],
   "source": [
    "# imports\n",
    "from collections import Counter\n",
    "import gzip\n",
    "import matplotlib.pyplot as plt\n",
    "from numpy import array as npa\n",
    "import pandas as pd\n",
    "from pprint import pprint\n",
    "from sklearn.feature_extraction import DictVectorizer\n",
    "from sklearn.linear_model import MultiTaskElasticNet, Ridge\n",
    "from sklearn.preprocessing import normalize, scale\n",
    "from sklearn.metrics import classification_report\n",
    "from twutil import collect\n",
    "\n",
    "%matplotlib inline\n",
    "plt.style.use('ggplot')\n",
    "\n",
    "data_path = 'data'"
   ]
  },
  {
   "cell_type": "markdown",
   "metadata": {},
   "source": [
    "## Read Quantcast data."
   ]
  },
  {
   "cell_type": "code",
   "execution_count": 2,
   "metadata": {
    "collapsed": false
   },
   "outputs": [
    {
     "data": {
      "text/html": [
       "<div>\n",
       "<table border=\"1\" class=\"dataframe\">\n",
       "  <thead>\n",
       "    <tr style=\"text-align: right;\">\n",
       "      <th></th>\n",
       "      <th>twitter_id</th>\n",
       "      <th>twitter_handle</th>\n",
       "      <th>Democrat</th>\n",
       "      <th>Republican</th>\n",
       "      <th>No College</th>\n",
       "      <th>College</th>\n",
       "      <th>Grad School</th>\n",
       "      <th>No Kids</th>\n",
       "      <th>Has Kids</th>\n",
       "      <th>$0-50k</th>\n",
       "      <th>...</th>\n",
       "      <th>18-24</th>\n",
       "      <th>25-34</th>\n",
       "      <th>35-44</th>\n",
       "      <th>45-54</th>\n",
       "      <th>55-64</th>\n",
       "      <th>65+</th>\n",
       "      <th>Caucasian</th>\n",
       "      <th>Hispanic</th>\n",
       "      <th>African American</th>\n",
       "      <th>Asian</th>\n",
       "    </tr>\n",
       "  </thead>\n",
       "  <tbody>\n",
       "    <tr>\n",
       "      <th>0</th>\n",
       "      <td>15650816</td>\n",
       "      <td>broadwayworld</td>\n",
       "      <td>38.0</td>\n",
       "      <td>16.0</td>\n",
       "      <td>30.0</td>\n",
       "      <td>48.0</td>\n",
       "      <td>22.0</td>\n",
       "      <td>63.0</td>\n",
       "      <td>37.0</td>\n",
       "      <td>49.0</td>\n",
       "      <td>...</td>\n",
       "      <td>14.0</td>\n",
       "      <td>21.0</td>\n",
       "      <td>17.0</td>\n",
       "      <td>18.0</td>\n",
       "      <td>11.0</td>\n",
       "      <td>5.0</td>\n",
       "      <td>81.0</td>\n",
       "      <td>7.0</td>\n",
       "      <td>7.0</td>\n",
       "      <td>4.0</td>\n",
       "    </tr>\n",
       "    <tr>\n",
       "      <th>1</th>\n",
       "      <td>108021761</td>\n",
       "      <td>valuewalk</td>\n",
       "      <td>25.0</td>\n",
       "      <td>21.0</td>\n",
       "      <td>26.0</td>\n",
       "      <td>45.0</td>\n",
       "      <td>29.0</td>\n",
       "      <td>46.0</td>\n",
       "      <td>54.0</td>\n",
       "      <td>36.0</td>\n",
       "      <td>...</td>\n",
       "      <td>11.0</td>\n",
       "      <td>26.0</td>\n",
       "      <td>25.0</td>\n",
       "      <td>15.0</td>\n",
       "      <td>8.0</td>\n",
       "      <td>5.0</td>\n",
       "      <td>66.0</td>\n",
       "      <td>10.0</td>\n",
       "      <td>7.0</td>\n",
       "      <td>16.0</td>\n",
       "    </tr>\n",
       "    <tr>\n",
       "      <th>2</th>\n",
       "      <td>15736836</td>\n",
       "      <td>pbpost</td>\n",
       "      <td>35.0</td>\n",
       "      <td>20.0</td>\n",
       "      <td>34.0</td>\n",
       "      <td>48.0</td>\n",
       "      <td>17.0</td>\n",
       "      <td>55.0</td>\n",
       "      <td>45.0</td>\n",
       "      <td>42.0</td>\n",
       "      <td>...</td>\n",
       "      <td>8.0</td>\n",
       "      <td>16.0</td>\n",
       "      <td>20.0</td>\n",
       "      <td>22.0</td>\n",
       "      <td>11.0</td>\n",
       "      <td>8.0</td>\n",
       "      <td>76.0</td>\n",
       "      <td>9.0</td>\n",
       "      <td>12.0</td>\n",
       "      <td>2.0</td>\n",
       "    </tr>\n",
       "    <tr>\n",
       "      <th>3</th>\n",
       "      <td>17448965</td>\n",
       "      <td>RiverfrontTimes</td>\n",
       "      <td>30.0</td>\n",
       "      <td>17.0</td>\n",
       "      <td>22.0</td>\n",
       "      <td>51.0</td>\n",
       "      <td>27.0</td>\n",
       "      <td>58.0</td>\n",
       "      <td>42.0</td>\n",
       "      <td>42.0</td>\n",
       "      <td>...</td>\n",
       "      <td>12.0</td>\n",
       "      <td>24.0</td>\n",
       "      <td>21.0</td>\n",
       "      <td>18.0</td>\n",
       "      <td>10.0</td>\n",
       "      <td>4.0</td>\n",
       "      <td>86.0</td>\n",
       "      <td>4.0</td>\n",
       "      <td>6.0</td>\n",
       "      <td>3.0</td>\n",
       "    </tr>\n",
       "    <tr>\n",
       "      <th>4</th>\n",
       "      <td>21237766</td>\n",
       "      <td>GameZoneOnline</td>\n",
       "      <td>23.0</td>\n",
       "      <td>21.0</td>\n",
       "      <td>53.0</td>\n",
       "      <td>40.0</td>\n",
       "      <td>8.0</td>\n",
       "      <td>47.0</td>\n",
       "      <td>53.0</td>\n",
       "      <td>70.0</td>\n",
       "      <td>...</td>\n",
       "      <td>27.0</td>\n",
       "      <td>25.0</td>\n",
       "      <td>15.0</td>\n",
       "      <td>8.0</td>\n",
       "      <td>1.0</td>\n",
       "      <td>1.0</td>\n",
       "      <td>74.0</td>\n",
       "      <td>13.0</td>\n",
       "      <td>7.0</td>\n",
       "      <td>4.0</td>\n",
       "    </tr>\n",
       "    <tr>\n",
       "      <th>5</th>\n",
       "      <td>26585095</td>\n",
       "      <td>nbc</td>\n",
       "      <td>31.0</td>\n",
       "      <td>24.0</td>\n",
       "      <td>36.0</td>\n",
       "      <td>47.0</td>\n",
       "      <td>17.0</td>\n",
       "      <td>50.0</td>\n",
       "      <td>50.0</td>\n",
       "      <td>54.0</td>\n",
       "      <td>...</td>\n",
       "      <td>12.0</td>\n",
       "      <td>20.0</td>\n",
       "      <td>18.0</td>\n",
       "      <td>17.0</td>\n",
       "      <td>10.0</td>\n",
       "      <td>3.0</td>\n",
       "      <td>78.0</td>\n",
       "      <td>9.0</td>\n",
       "      <td>8.0</td>\n",
       "      <td>4.0</td>\n",
       "    </tr>\n",
       "    <tr>\n",
       "      <th>6</th>\n",
       "      <td>15165450</td>\n",
       "      <td>NewsOn6</td>\n",
       "      <td>27.0</td>\n",
       "      <td>39.0</td>\n",
       "      <td>40.0</td>\n",
       "      <td>49.0</td>\n",
       "      <td>11.0</td>\n",
       "      <td>44.0</td>\n",
       "      <td>56.0</td>\n",
       "      <td>54.0</td>\n",
       "      <td>...</td>\n",
       "      <td>9.0</td>\n",
       "      <td>18.0</td>\n",
       "      <td>22.0</td>\n",
       "      <td>22.0</td>\n",
       "      <td>8.0</td>\n",
       "      <td>4.0</td>\n",
       "      <td>76.0</td>\n",
       "      <td>14.0</td>\n",
       "      <td>7.0</td>\n",
       "      <td>2.0</td>\n",
       "    </tr>\n",
       "    <tr>\n",
       "      <th>7</th>\n",
       "      <td>890891</td>\n",
       "      <td>BleacherReport</td>\n",
       "      <td>30.0</td>\n",
       "      <td>24.0</td>\n",
       "      <td>36.0</td>\n",
       "      <td>46.0</td>\n",
       "      <td>18.0</td>\n",
       "      <td>51.0</td>\n",
       "      <td>49.0</td>\n",
       "      <td>41.0</td>\n",
       "      <td>...</td>\n",
       "      <td>11.0</td>\n",
       "      <td>21.0</td>\n",
       "      <td>23.0</td>\n",
       "      <td>17.0</td>\n",
       "      <td>9.0</td>\n",
       "      <td>6.0</td>\n",
       "      <td>74.0</td>\n",
       "      <td>10.0</td>\n",
       "      <td>11.0</td>\n",
       "      <td>4.0</td>\n",
       "    </tr>\n",
       "    <tr>\n",
       "      <th>8</th>\n",
       "      <td>14571534</td>\n",
       "      <td>alphamom</td>\n",
       "      <td>36.0</td>\n",
       "      <td>23.0</td>\n",
       "      <td>20.0</td>\n",
       "      <td>52.0</td>\n",
       "      <td>28.0</td>\n",
       "      <td>31.0</td>\n",
       "      <td>69.0</td>\n",
       "      <td>38.0</td>\n",
       "      <td>...</td>\n",
       "      <td>10.0</td>\n",
       "      <td>34.0</td>\n",
       "      <td>23.0</td>\n",
       "      <td>9.0</td>\n",
       "      <td>6.0</td>\n",
       "      <td>2.0</td>\n",
       "      <td>82.0</td>\n",
       "      <td>8.0</td>\n",
       "      <td>5.0</td>\n",
       "      <td>4.0</td>\n",
       "    </tr>\n",
       "    <tr>\n",
       "      <th>9</th>\n",
       "      <td>25589776</td>\n",
       "      <td>peoplemag</td>\n",
       "      <td>37.0</td>\n",
       "      <td>24.0</td>\n",
       "      <td>29.0</td>\n",
       "      <td>51.0</td>\n",
       "      <td>19.0</td>\n",
       "      <td>47.0</td>\n",
       "      <td>53.0</td>\n",
       "      <td>41.0</td>\n",
       "      <td>...</td>\n",
       "      <td>8.0</td>\n",
       "      <td>23.0</td>\n",
       "      <td>24.0</td>\n",
       "      <td>20.0</td>\n",
       "      <td>9.0</td>\n",
       "      <td>3.0</td>\n",
       "      <td>83.0</td>\n",
       "      <td>8.0</td>\n",
       "      <td>5.0</td>\n",
       "      <td>3.0</td>\n",
       "    </tr>\n",
       "  </tbody>\n",
       "</table>\n",
       "<p>10 rows × 25 columns</p>\n",
       "</div>"
      ],
      "text/plain": [
       "   twitter_id   twitter_handle  Democrat  Republican  No College  College  \\\n",
       "0    15650816    broadwayworld      38.0        16.0        30.0     48.0   \n",
       "1   108021761        valuewalk      25.0        21.0        26.0     45.0   \n",
       "2    15736836           pbpost      35.0        20.0        34.0     48.0   \n",
       "3    17448965  RiverfrontTimes      30.0        17.0        22.0     51.0   \n",
       "4    21237766   GameZoneOnline      23.0        21.0        53.0     40.0   \n",
       "5    26585095              nbc      31.0        24.0        36.0     47.0   \n",
       "6    15165450          NewsOn6      27.0        39.0        40.0     49.0   \n",
       "7      890891   BleacherReport      30.0        24.0        36.0     46.0   \n",
       "8    14571534         alphamom      36.0        23.0        20.0     52.0   \n",
       "9    25589776        peoplemag      37.0        24.0        29.0     51.0   \n",
       "\n",
       "   Grad School  No Kids  Has Kids  $0-50k  ...    18-24  25-34  35-44  45-54  \\\n",
       "0         22.0     63.0      37.0    49.0  ...     14.0   21.0   17.0   18.0   \n",
       "1         29.0     46.0      54.0    36.0  ...     11.0   26.0   25.0   15.0   \n",
       "2         17.0     55.0      45.0    42.0  ...      8.0   16.0   20.0   22.0   \n",
       "3         27.0     58.0      42.0    42.0  ...     12.0   24.0   21.0   18.0   \n",
       "4          8.0     47.0      53.0    70.0  ...     27.0   25.0   15.0    8.0   \n",
       "5         17.0     50.0      50.0    54.0  ...     12.0   20.0   18.0   17.0   \n",
       "6         11.0     44.0      56.0    54.0  ...      9.0   18.0   22.0   22.0   \n",
       "7         18.0     51.0      49.0    41.0  ...     11.0   21.0   23.0   17.0   \n",
       "8         28.0     31.0      69.0    38.0  ...     10.0   34.0   23.0    9.0   \n",
       "9         19.0     47.0      53.0    41.0  ...      8.0   23.0   24.0   20.0   \n",
       "\n",
       "   55-64  65+  Caucasian  Hispanic  African American  Asian  \n",
       "0   11.0  5.0       81.0       7.0               7.0    4.0  \n",
       "1    8.0  5.0       66.0      10.0               7.0   16.0  \n",
       "2   11.0  8.0       76.0       9.0              12.0    2.0  \n",
       "3   10.0  4.0       86.0       4.0               6.0    3.0  \n",
       "4    1.0  1.0       74.0      13.0               7.0    4.0  \n",
       "5   10.0  3.0       78.0       9.0               8.0    4.0  \n",
       "6    8.0  4.0       76.0      14.0               7.0    2.0  \n",
       "7    9.0  6.0       74.0      10.0              11.0    4.0  \n",
       "8    6.0  2.0       82.0       8.0               5.0    4.0  \n",
       "9    9.0  3.0       83.0       8.0               5.0    3.0  \n",
       "\n",
       "[10 rows x 25 columns]"
      ]
     },
     "execution_count": 2,
     "metadata": {},
     "output_type": "execute_result"
    }
   ],
   "source": [
    "quantcast_df = pd.read_csv(data_path + '/quantcast.tsv', sep='\\t')\n",
    "quantcast_df.head(10)"
   ]
  },
  {
   "cell_type": "markdown",
   "metadata": {},
   "source": [
    "## Read neighbor counts.\n",
    "\n",
    "\n",
    "The file `followers.tsv.gz` looks like this:\n",
    "```\n",
    "15650816\t76611584:2\t8519682:1\t419168262:2 ...\n",
    "```\n",
    "where the first element is the Twitter id of a website,  \n",
    "and each additional element is a `<Twitter_id, count>` tuple  \n",
    "indicating the number of followers of this webiste that follow this other account."
   ]
  },
  {
   "cell_type": "markdown",
   "metadata": {},
   "source": [
    "## Preprocessing and model fitting."
   ]
  },
  {
   "cell_type": "code",
   "execution_count": 3,
   "metadata": {
    "collapsed": false
   },
   "outputs": [],
   "source": [
    "\"\"\"\n",
    "Here is a wrapper class to perform the preprocessing, training, and classification.\n",
    "\"\"\"\n",
    "class NeighborClassifier:\n",
    "    \n",
    "    def preprocess(self, followers_file):\n",
    "        \"\"\"Read the followers file into a sparse matrix.\"\"\"\n",
    "        self.brand_ids = []\n",
    "        self.vectorizer = DictVectorizer()\n",
    "        self.Xtrain = self.vectorizer.fit_transform(counts for brand_id, counts in\n",
    "                                                    self._iterate_neighbor_counts(followers_file)\n",
    "                                                    if not self.brand_ids.append(brand_id))\n",
    "        plot_neighbor_counts(self.Xtrain)\n",
    "        self.Xtrain = normalize(self.Xtrain, norm='l1', axis=1)    \n",
    "        print('neighbor feature matrix has shape %s' % str(self.Xtrain.shape))\n",
    "                        \n",
    "            \n",
    "    def _iterate_neighbor_counts(self, fname):\n",
    "        \"\"\"Read dict from twitter id to second-degree neighbor counts.\n",
    "        Format: <twitter id> <twitter id>:<count> <twitter id>:<count> ...\n",
    "        where first id is for website account, and the rest are accounts\n",
    "        that followers of the website account also follow.\"\"\"\n",
    "        fh = gzip.open(fname, 'rt')\n",
    "        results = {}\n",
    "        for line in fh:\n",
    "            parts = line.split('\\t')   \n",
    "            yield (int(parts[0]), dict([(int(part.split(':')[0]),\n",
    "                                         int(part.split(':')[1]))for part in parts[1:]]))\n",
    "\n",
    "\n",
    "    def train_from_df(self, quantcast_df, categories):\n",
    "        \"\"\"\n",
    "        Fit a regression model to quantcast statistics, using self.Xtrain.\n",
    "        \"\"\"\n",
    "        self.categories = categories\n",
    "        self.models = {}\n",
    "        for category, labels in categories.items():\n",
    "            print('fitting model for %s' % category)\n",
    "            indices, y = self._select_instances(self.brand_ids, quantcast_df, labels)\n",
    "            X = self.Xtrain[indices]\n",
    "            print('%d training instances' % X.shape[0])\n",
    "            model = self._get_model()\n",
    "            model.fit(X.toarray(), y)  # ElasticNet requires dense matrix!!!\n",
    "            self.models[category] = self._reg_to_classify(model)\n",
    "            \n",
    "    def _get_model(self):\n",
    "        return MultiTaskElasticNet(alpha=1e-5, l1_ratio=0.5)\n",
    "\n",
    "    def _reg_to_classify(self, model):\n",
    "        \"\"\" z-score coefficients, set intercept to 0, and put in a ridge model. \"\"\"\n",
    "        ridge = Ridge()\n",
    "        ridge.coef_ = scale(model.coef_, axis=1)\n",
    "        ridge.intercept_ = 0\n",
    "        return ridge\n",
    "    \n",
    "    \n",
    "    def _select_instances(self, twitter_ids, quantcast_df, labels):\n",
    "        \"\"\" Return indices in quantcast_df that have non-NA values for the given columns\"\"\"\n",
    "        indices = []\n",
    "        yvals = []\n",
    "        for index, id_ in enumerate(twitter_ids):\n",
    "            if len(labels) == quantcast_df[quantcast_df.twitter_id==id_][labels].count().sum():\n",
    "                # we have demographics for this website.\n",
    "                indices.append(index)\n",
    "                yvals.append(npa(quantcast_df[quantcast_df.twitter_id==id_][labels])[0])\n",
    "        return indices, npa(yvals)\n",
    "        \n",
    "    def classify(self, friend_list):\n",
    "        \"\"\"Classify a single user based on a list of friend ids.\"\"\"\n",
    "        newX = self.vectorizer.transform([Counter([int(x) for x in friend_list])])\n",
    "        prediction = {}\n",
    "        for category, model in self.models.items():\n",
    "            prediction[category] = dict(zip(self.categories[category], model.predict(newX)[0]))\n",
    "        return prediction\n",
    "    \n",
    "\n",
    "def plot_neighbor_counts(X):\n",
    "    \"\"\" Plot stats of followers from sparse matrix. \"\"\"\n",
    "    figure, axes = plt.subplots(1, 2, figsize=(10,4), sharex=True, sharey=True)\n",
    "    unique_friends = sorted([xi.nnz for xi in X], reverse=True)\n",
    "    axes[0].plot(unique_friends)\n",
    "    axes[0].set_xscale('log')\n",
    "    axes[0].set_yscale('log')\n",
    "    axes[0].set_title('number of unique neighbors', size=16)\n",
    "\n",
    "    brcounts = sorted([xi.sum() for xi in X], reverse=True)\n",
    "    print('total friend links:', sum(brcounts))\n",
    "    axes[1].plot(brcounts)\n",
    "    axes[1].set_xscale('log')\n",
    "    axes[1].set_yscale('log')\n",
    "    axes[1].set_title('number of neighbor links', size=16)\n",
    "    axes[1].set_xlim((0,1500))\n",
    "    axes[0].set_xlabel('rank', size=16)\n",
    "    axes[1].set_xlabel('rank', size=16)\n",
    "    axes[0].set_ylabel('count', size=16)\n",
    "    axes[1].set_ylabel('count', size=16)\n",
    "    figure.tight_layout()"
   ]
  },
  {
   "cell_type": "code",
   "execution_count": 4,
   "metadata": {
    "collapsed": false
   },
   "outputs": [
    {
     "name": "stdout",
     "output_type": "stream",
     "text": [
      "total friend links: 177997246.0\n",
      "neighbor feature matrix has shape (1072, 46649)\n"
     ]
    },
    {
     "data": {
      "image/png": "[encoded data removed]",
      "text/plain": [
       "<matplotlib.figure.Figure at 0x109aec550>"
      ]
     },
     "metadata": {},
     "output_type": "display_data"
    }
   ],
   "source": [
    "neighbor_classifier = NeighborClassifier()\n",
    "neighbor_classifier.preprocess(data_path + '/followers.tsv.gz')"
   ]
  },
  {
   "cell_type": "code",
   "execution_count": 5,
   "metadata": {
    "collapsed": false
   },
   "outputs": [],
   "source": [
    "categories = {'Politics': ['Democrat', 'Republican'],\n",
    "              'Education': ['No College', 'College', 'Grad School'],\n",
    "              'Children': ['No Kids', 'Has Kids'],\n",
    "              'Income': ['$0-50k', '$50-100k', '$100-150k', '$150k+'],\n",
    "              'Gender': ['Male', 'Female'],\n",
    "              'Age': ['18-24', '25-34', '35-44', '45-54', '55-64', '65+'],\n",
    "              'Ethnicity': ['Caucasian', 'Hispanic', 'African American', 'Asian']}"
   ]
  },
  {
   "cell_type": "code",
   "execution_count": 6,
   "metadata": {
    "collapsed": false
   },
   "outputs": [
    {
     "name": "stdout",
     "output_type": "stream",
     "text": [
      "fitting model for Education\n",
      "1046 training instances\n",
      "fitting model for Politics\n",
      "957 training instances\n",
      "fitting model for Age\n",
      "1072 training instances\n",
      "fitting model for Gender\n",
      "1066 training instances\n",
      "fitting model for Ethnicity\n",
      "1035 training instances\n",
      "fitting model for Children\n",
      "1052 training instances\n",
      "fitting model for Income\n",
      "1043 training instances\n"
     ]
    }
   ],
   "source": [
    "neighbor_classifier.train_from_df(quantcast_df, categories)"
   ]
  },
  {
   "cell_type": "markdown",
   "metadata": {},
   "source": [
    "## Now classify pre-annotated users\n",
    "\n",
    "We next read in a text file of labeled users in the format:\n",
    "\n",
    "```\n",
    "<Twitter id or handle> <label> <list of friends>\n",
    "```"
   ]
  },
  {
   "cell_type": "code",
   "execution_count": 7,
   "metadata": {
    "collapsed": false
   },
   "outputs": [
    {
     "name": "stdout",
     "output_type": "stream",
     "text": [
      "prettygiirl_ri Female 973944740 576890292 929766590 2752790981 307589294 1527956\r\n"
     ]
    }
   ],
   "source": [
    "# Gender data comes from Aron Culotta and Ehsan Ardehaly. \n",
    "!head -1 data/gender.txt | cut -c-80"
   ]
  },
  {
   "cell_type": "code",
   "execution_count": 8,
   "metadata": {
    "collapsed": false
   },
   "outputs": [
    {
     "name": "stdout",
     "output_type": "stream",
     "text": [
      "243060741 Democrat 15912890 3048165698 18140340 2360061992 3026127280 387562192 \r\n"
     ]
    }
   ],
   "source": [
    "# Politics data comes from Svitlana Volkova.\n",
    "# http://www.cs.jhu.edu/~svitlana/data/data_collection.pdf\n",
    "# This is the \"geo-centric\" data, where users self identify in description.\n",
    "!head -1 data/politics.txt | cut -c-80"
   ]
  },
  {
   "cell_type": "code",
   "execution_count": 9,
   "metadata": {
    "collapsed": true
   },
   "outputs": [],
   "source": [
    "# Read labeled data.\n",
    "def read_labeled_with_friends(fname):\n",
    "    return [line.split() for line in open(fname)]"
   ]
  },
  {
   "cell_type": "code",
   "execution_count": 10,
   "metadata": {
    "collapsed": false
   },
   "outputs": [
    {
     "name": "stdout",
     "output_type": "stream",
     "text": [
      "{'Age': {'18-24': -278.7676605260296,\n",
      "         '25-34': -140.13290390016525,\n",
      "         '35-44': 141.37606382159211,\n",
      "         '45-54': 331.20559708226455,\n",
      "         '55-64': 354.03173350895014,\n",
      "         '65+': 387.41832484300556},\n",
      " 'Children': {'Has Kids': -450.31863667484504, 'No Kids': 450.31863667484504},\n",
      " 'Education': {'College': 190.72580710697741,\n",
      "               'Grad School': 777.16334208324508,\n",
      "               'No College': -626.36258636294724},\n",
      " 'Ethnicity': {'African American': -204.03958354111944,\n",
      "               'Asian': 56.241653391721442,\n",
      "               'Caucasian': 238.73922217789473,\n",
      "               'Hispanic': -278.37419743585235},\n",
      " 'Gender': {'Female': -85.529655431025986, 'Male': 85.529655431025986},\n",
      " 'Income': {'$0-50k': -409.4057729847882,\n",
      "            '$100-150k': 394.5569412931336,\n",
      "            '$150k+': 535.91798855816569,\n",
      "            '$50-100k': 184.23681385327075},\n",
      " 'Politics': {'Democrat': 99.203521150495263,\n",
      "              'Republican': -144.66509342125366}}\n"
     ]
    }
   ],
   "source": [
    "# For example, classify the first line in politics.txt.\n",
    "pprint(neighbor_classifier.classify(read_labeled_with_friends(data_path + '/politics.txt')[0][2:]))"
   ]
  },
  {
   "cell_type": "code",
   "execution_count": 11,
   "metadata": {
    "collapsed": false
   },
   "outputs": [],
   "source": [
    "def classify_file(fname, category, classifier):\n",
    "    \"\"\"\n",
    "    Read in a labeled data file, vectorize, classify, and print accuracy.\n",
    "    \"\"\"\n",
    "    labeled_data = read_labeled_with_friends(fname)\n",
    "    preds_all = [neighbor_classifier.classify(f[2:]) for f in labeled_data]\n",
    "    preds = get_predicted_labels(category, preds_all)\n",
    "    trues = [f[1] for f in labeled_data]\n",
    "    print('predicted class distribution:%s' % str(Counter(preds)))\n",
    "    print(classification_report(trues, preds))    \n",
    "\n",
    "def get_predicted_labels(category, preds):\n",
    "    \"\"\" Return the highest posterior prediction for this category. \"\"\"\n",
    "    result = []\n",
    "    for pred in preds:\n",
    "        keys = list(pred[category].keys())\n",
    "        result.append(keys[npa(list(pred[category].values())).argmax()])\n",
    "    return result"
   ]
  },
  {
   "cell_type": "code",
   "execution_count": 12,
   "metadata": {
    "collapsed": false
   },
   "outputs": [
    {
     "name": "stdout",
     "output_type": "stream",
     "text": [
      "predicted class distribution:Counter({'Female': 114, 'Male': 100})\n",
      "             precision    recall  f1-score   support\n",
      "\n",
      "     Female       0.86      0.77      0.81       127\n",
      "       Male       0.71      0.82      0.76        87\n",
      "\n",
      "avg / total       0.80      0.79      0.79       214\n",
      "\n"
     ]
    }
   ],
   "source": [
    "classify_file(data_path + '/gender.txt', 'Gender', neighbor_classifier)"
   ]
  },
  {
   "cell_type": "code",
   "execution_count": 13,
   "metadata": {
    "collapsed": false
   },
   "outputs": [
    {
     "name": "stdout",
     "output_type": "stream",
     "text": [
      "predicted class distribution:Counter({'Democrat': 239, 'Republican': 127})\n",
      "             precision    recall  f1-score   support\n",
      "\n",
      "   Democrat       0.80      0.92      0.85       208\n",
      " Republican       0.87      0.70      0.77       158\n",
      "\n",
      "avg / total       0.83      0.82      0.82       366\n",
      "\n"
     ]
    }
   ],
   "source": [
    "classify_file(data_path + '/politics.txt', 'Politics', neighbor_classifier)"
   ]
  },
  {
   "cell_type": "markdown",
   "metadata": {},
   "source": [
    "## Finally, test out on known users..."
   ]
  },
  {
   "cell_type": "code",
   "execution_count": 14,
   "metadata": {
    "collapsed": true
   },
   "outputs": [],
   "source": [
    "def fetch_and_classify(screen_name, classifier):\n",
    "    friends = collect.get_friends(screen_name=screen_name)\n",
    "    pprint(classifier.classify(friends))"
   ]
  },
  {
   "cell_type": "code",
   "execution_count": 15,
   "metadata": {
    "collapsed": false
   },
   "outputs": [
    {
     "name": "stderr",
     "output_type": "stream",
     "text": [
      "fetched 40 more friends for realDonaldTrump\n"
     ]
    },
    {
     "name": "stdout",
     "output_type": "stream",
     "text": [
      "{'Age': {'18-24': -66.897966455022214,\n",
      "         '25-34': -84.760112134270514,\n",
      "         '35-44': -18.144623119543564,\n",
      "         '45-54': 82.789665969872999,\n",
      "         '55-64': 93.656637977422477,\n",
      "         '65+': 115.63631208589219},\n",
      " 'Children': {'Has Kids': -13.95507408877878, 'No Kids': 13.95507408877878},\n",
      " 'Education': {'College': -3.2789304471321654,\n",
      "               'Grad School': 23.718267721266105,\n",
      "               'No College': -14.952693219780731},\n",
      " 'Ethnicity': {'African American': -16.813032744780205,\n",
      "               'Asian': -51.327144935307395,\n",
      "               'Caucasian': 38.495079186139584,\n",
      "               'Hispanic': -49.529687419022551},\n",
      " 'Gender': {'Female': -24.75579649246302, 'Male': 24.75579649246302},\n",
      " 'Income': {'$0-50k': -46.718362970338781,\n",
      "            '$100-150k': 47.529908800314345,\n",
      "            '$150k+': 38.784872960005913,\n",
      "            '$50-100k': 41.706777677136955},\n",
      " 'Politics': {'Democrat': -74.053708452268438,\n",
      "              'Republican': 104.24526497466996}}\n"
     ]
    }
   ],
   "source": [
    "fetch_and_classify('realDonaldTrump', neighbor_classifier)"
   ]
  },
  {
   "cell_type": "code",
   "execution_count": 16,
   "metadata": {
    "collapsed": false
   },
   "outputs": [
    {
     "name": "stderr",
     "output_type": "stream",
     "text": [
      "fetched 651 more friends for HillaryClinton\n"
     ]
    },
    {
     "name": "stdout",
     "output_type": "stream",
     "text": [
      "{'Age': {'18-24': -20.675608920927431,\n",
      "         '25-34': 2.8504142168773372,\n",
      "         '35-44': 63.28123863181915,\n",
      "         '45-54': 13.530722043311624,\n",
      "         '55-64': -11.467819882734897,\n",
      "         '65+': -29.666935263068943},\n",
      " 'Children': {'Has Kids': -41.042654373877347, 'No Kids': 41.042654373877347},\n",
      " 'Education': {'College': 1.2283372153516099,\n",
      "               'Grad School': 30.185701515556065,\n",
      "               'No College': -21.252700160691507},\n",
      " 'Ethnicity': {'African American': 98.490836827204689,\n",
      "               'Asian': -87.283737424703716,\n",
      "               'Caucasian': -62.636783989739612,\n",
      "               'Hispanic': 5.2601230274163759},\n",
      " 'Gender': {'Female': 160.26322589310774, 'Male': -160.26322589310774},\n",
      " 'Income': {'$0-50k': 68.941243693964964,\n",
      "            '$100-150k': -77.604578996062727,\n",
      "            '$150k+': -61.409146696407674,\n",
      "            '$50-100k': -51.412367411783798},\n",
      " 'Politics': {'Democrat': 235.45190647413907, 'Republican': -138.0692717275081}}\n"
     ]
    }
   ],
   "source": [
    "fetch_and_classify('HillaryClinton', neighbor_classifier)"
   ]
  },
  {
   "cell_type": "code",
   "execution_count": 17,
   "metadata": {
    "collapsed": false
   },
   "outputs": [
    {
     "name": "stderr",
     "output_type": "stream",
     "text": [
      "fetched 57 more friends for aronwc\n"
     ]
    },
    {
     "name": "stdout",
     "output_type": "stream",
     "text": [
      "{'Age': {'18-24': -4.6859816123765548,\n",
      "         '25-34': 4.6567416606835783,\n",
      "         '35-44': 7.6242747697732627,\n",
      "         '45-54': 1.662120750908384,\n",
      "         '55-64': 2.3103745286922313,\n",
      "         '65+': 3.3375137727319792},\n",
      " 'Children': {'Has Kids': -11.423431564572809, 'No Kids': 11.423431564572809},\n",
      " 'Education': {'College': 5.8620360037217427,\n",
      "               'Grad School': 18.116010432466499,\n",
      "               'No College': -15.223107870813338},\n",
      " 'Ethnicity': {'African American': -2.4105745445350055,\n",
      "               'Asian': 1.3324946569191798,\n",
      "               'Caucasian': 3.9112992208005308,\n",
      "               'Hispanic': -7.5448833610176704},\n",
      " 'Gender': {'Female': -5.2972243544545394, 'Male': 5.2972243544545394},\n",
      " 'Income': {'$0-50k': -9.3263435901322076,\n",
      "            '$100-150k': 8.5996902025506756,\n",
      "            '$150k+': 12.341958092099979,\n",
      "            '$50-100k': 4.5839174352466188},\n",
      " 'Politics': {'Democrat': 8.2046172412955691,\n",
      "              'Republican': -8.3901901329633226}}\n"
     ]
    }
   ],
   "source": [
    "fetch_and_classify('aronwc', neighbor_classifier)"
   ]
  },
  {
   "cell_type": "code",
   "execution_count": 18,
   "metadata": {
    "collapsed": false
   },
   "outputs": [
    {
     "name": "stderr",
     "output_type": "stream",
     "text": [
      "fetched 57 more friends for aronwc\n"
     ]
    },
    {
     "data": {
      "text/plain": [
       "{('NateSilver538', '16017475'), ('monkeycageblog', '116630713')}"
      ]
     },
     "execution_count": 18,
     "metadata": {},
     "output_type": "execute_result"
    }
   ],
   "source": [
    "# Aron is not very active on Twitter, so the prediction\n",
    "# is based on only two accounts.\n",
    "\n",
    "# get who aron follows.\n",
    "aron_friends = collect.get_friends(screen_name='aronwc')\n",
    "# transform to feature matrix.\n",
    "aronX = neighbor_classifier.vectorizer.transform([Counter([int(x) for x in aron_friends])])\n",
    "# lookup the Twitter ids for the non-zero indices.\n",
    "ids = npa(neighbor_classifier.vectorizer.get_feature_names())[aronX.indices]\n",
    "collect.lookup_handles(ids)"
   ]
  },
  {
   "cell_type": "markdown",
   "metadata": {},
   "source": [
    "** See the [JAIR replication notebook](https://github.com/tapilab/jair-2016-demographics/blob/master/README.md) for additional models using text features. **"
   ]
  }
 ],
 "metadata": {
  "kernelspec": {
   "display_name": "Python 3",
   "language": "python",
   "name": "python3"
  },
  "language_info": {
   "codemirror_mode": {
    "name": "ipython",
    "version": 3
   },
   "file_extension": ".py",
   "mimetype": "text/x-python",
   "name": "python",
   "nbconvert_exporter": "python",
   "pygments_lexer": "ipython3",
   "version": "3.5.0"
  }
 },
 "nbformat": 4,
 "nbformat_minor": 0
}
